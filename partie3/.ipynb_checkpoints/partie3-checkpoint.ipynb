{
 "cells": [
  {
   "cell_type": "markdown",
   "metadata": {},
   "source": [
    "# Bienvenue dans jupyter : ceci est un titre en markdown"
   ]
  },
  {
   "cell_type": "code",
   "execution_count": 1,
   "metadata": {},
   "outputs": [],
   "source": [
    "# premier morceau de code : on charge les packages\n",
    "library(pmeasyr)\n",
    "library(MonetDBLite)\n",
    "library(DBI)\n",
    "library(dplyr, warn.conflicts = F)\n",
    "\n",
    "# on se connecte à la base de données MonetDBLite AP-HP\n",
    "dbdir <- \"~/Documents/data/monetdbpsl\"\n",
    "con <- src_monetdblite(dbdir)\n",
    "\n",
    "# appuyer sur Run ou ctrl entrée pour compiler ce morceau de code"
   ]
  },
  {
   "cell_type": "markdown",
   "metadata": {},
   "source": [
    "Jupyter est une application web qui permet d'associer la programmation à des éléments statiques comme cette phrase."
   ]
  },
  {
   "cell_type": "markdown",
   "metadata": {},
   "source": [
    "# Exemple de requête sur les ace rafael C"
   ]
  },
  {
   "cell_type": "code",
   "execution_count": 2,
   "metadata": {},
   "outputs": [
    {
     "name": "stdout",
     "output_type": "stream",
     "text": [
      "Observations: ??\n",
      "Variables: 27\n",
      "$ numseq      <chr> \"00000001\", \"00000002\", \"00000003\", \"00000004\", \"000000...\n",
      "$ filler      <chr> \"  \", \"  \", \"  \", \"  \", \"  \", \"  \", \"  \", \"  \", \"  \", \"...\n",
      "$ tyenr       <chr> \"C\", \"C\", \"C\", \"C\", \"C\", \"C\", \"C\", \"C\", \"C\", \"C\", \"C\", ...\n",
      "$ typform     <chr> \"2\", \"2\", \"2\", \"2\", \"2\", \"2\", \"2\", \"2\", \"2\", \"2\", \"2\", ...\n",
      "$ nfaqseq     <chr> \"001\", \"001\", \"001\", \"001\", \"001\", \"001\", \"001\", \"001\",...\n",
      "$ nofiness    <chr> \"750100125\", \"750100125\", \"750100125\", \"750100125\", \"75...\n",
      "$ nofinessgeo <chr> \"750100125\", \"750100125\", \"750100125\", \"750100125\", \"75...\n",
      "$ aasort      <chr> \"2017\", \"2017\", \"2017\", \"2017\", \"2017\", \"2017\", \"2017\",...\n",
      "$ mmsort      <chr> \"01\", \"01\", \"01\", \"01\", \"01\", \"01\", \"01\", \"01\", \"01\", \"...\n",
      "$ delai       <int> 0, 0, 0, 0, 0, 0, 0, 0, 0, 0, 0, 0, 0, 0, 0, 0, 0, 0, 0...\n",
      "$ mdtrt       <chr> \"07\", \"07\", \"07\", \"07\", \"07\", \"07\", \"07\", \"07\", \"07\", \"...\n",
      "$ dispres     <chr> \"   \", \"   \", \"   \", \"   \", \"   \", \"   \", \"   \", \"   \",...\n",
      "$ exotm       <chr> \"0\", \"0\", \"0\", \"4\", \"4\", \"4\", \"4\", \"0\", \"0\", \"0\", \"0\", ...\n",
      "$ specex      <chr> \"01\", \"01\", \"01\", \"06\", \"06\", \"06\", \"06\", \"06\", \"06\", \"...\n",
      "$ codact      <chr> \"C\", \"C\", \"C\", \"ADI\", \"ADI\", \"ADI\", \"ADI\", \"ADI\", \"ADI\"...\n",
      "$ quant       <int> 1, 1, 1, 1, 1, 1, 1, 1, 1, 1, 1, 1, 1, 1, 1, 1, 1, 1, 1...\n",
      "$ coeff       <dbl> 1, 1, 1, 1, 1, 1, 1, 1, 1, 1, 2, 1, 1, 2, 1, 3, 1, 1, 1...\n",
      "$ denomb      <int> 1, 1, 1, 1, 1, 1, 1, 1, 1, 1, 1, 1, 1, 1, 1, 1, 1, 1, 1...\n",
      "$ pu          <dbl> 23.00, 23.00, 23.00, 1.50, 69.00, 25.27, 1.50, 1.50, 25...\n",
      "$ mtbrem      <dbl> 23.00, 23.00, 0.00, 1.50, 69.00, 30.78, 1.50, 1.50, 30....\n",
      "$ taux        <int> 70, 70, 0, 100, 100, 100, 100, 100, 100, 100, 70, 100, ...\n",
      "$ mtremamo    <dbl> 16.10, 16.10, 0.00, 1.50, 69.00, 30.78, 1.50, 1.50, 30....\n",
      "$ mthonor     <dbl> 23.00, 23.00, 23.00, 1.50, 69.00, 30.78, 1.50, 1.50, 30...\n",
      "$ mtremamc    <dbl> 6.9, 6.9, 23.0, 0.0, 0.0, 0.0, 0.0, 0.0, 0.0, 0.0, 13.8...\n",
      "$ filler2     <chr> \"           \", \"           \", \"           \", \"         ...\n",
      "$ tyufc       <chr> \"  \", \"  \", \"  \", \"  \", \"  \", \"  \", \"  \", \"  \", \"  \", \"...\n",
      "$ coeffmco    <chr> \"00000\", \"00000\", \"00000\", \"00000\", \"00000\", \"00000\", \"...\n"
     ]
    }
   ],
   "source": [
    "# Quelles sont les variables de cette table\n",
    "tbl_rsf(con, 17, 'rafael_c') %>% glimpse"
   ]
  },
  {
   "cell_type": "code",
   "execution_count": 4,
   "metadata": {},
   "outputs": [
    {
     "data": {
      "text/html": [
       "<table>\n",
       "<thead><tr><th scope=col>codact</th><th scope=col>n</th></tr></thead>\n",
       "<tbody>\n",
       "\t<tr><td>C    </td><td>182  </td></tr>\n",
       "\t<tr><td>B    </td><td>177  </td></tr>\n",
       "\t<tr><td>MCS  </td><td>137  </td></tr>\n",
       "\t<tr><td>AMI  </td><td>103  </td></tr>\n",
       "\t<tr><td>CS   </td><td> 95  </td></tr>\n",
       "\t<tr><td>ADI  </td><td> 79  </td></tr>\n",
       "\t<tr><td>ATM  </td><td> 74  </td></tr>\n",
       "\t<tr><td>CNP  </td><td> 28  </td></tr>\n",
       "\t<tr><td>APC  </td><td> 21  </td></tr>\n",
       "\t<tr><td>ADE  </td><td> 19  </td></tr>\n",
       "\t<tr><td>ADC  </td><td> 11  </td></tr>\n",
       "\t<tr><td>AMY  </td><td> 10  </td></tr>\n",
       "\t<tr><td>CSC  </td><td>  8  </td></tr>\n",
       "\t<tr><td>MM   </td><td>  8  </td></tr>\n",
       "\t<tr><td>APU  </td><td>  7  </td></tr>\n",
       "\t<tr><td>C   F</td><td>  6  </td></tr>\n",
       "\t<tr><td>AMC  </td><td>  5  </td></tr>\n",
       "\t<tr><td>AMO  </td><td>  4  </td></tr>\n",
       "\t<tr><td>AMS  </td><td>  4  </td></tr>\n",
       "\t<tr><td>G    </td><td>  4  </td></tr>\n",
       "\t<tr><td>APY  </td><td>  3  </td></tr>\n",
       "\t<tr><td>BHN  </td><td>  3  </td></tr>\n",
       "\t<tr><td>AMI F</td><td>  2  </td></tr>\n",
       "\t<tr><td>PH7  </td><td>  2  </td></tr>\n",
       "\t<tr><td>VAC  </td><td>  1  </td></tr>\n",
       "\t<tr><td>G   N</td><td>  1  </td></tr>\n",
       "\t<tr><td>SDE  </td><td>  1  </td></tr>\n",
       "\t<tr><td>SE5  </td><td>  1  </td></tr>\n",
       "\t<tr><td>CNR  </td><td>  1  </td></tr>\n",
       "\t<tr><td>SF   </td><td>  1  </td></tr>\n",
       "\t<tr><td>TO   </td><td>  1  </td></tr>\n",
       "\t<tr><td>AMI N</td><td>  1  </td></tr>\n",
       "</tbody>\n",
       "</table>\n"
      ],
      "text/latex": [
       "\\begin{tabular}{r|ll}\n",
       " codact & n\\\\\n",
       "\\hline\n",
       "\t C     & 182  \\\\\n",
       "\t B     & 177  \\\\\n",
       "\t MCS   & 137  \\\\\n",
       "\t AMI   & 103  \\\\\n",
       "\t CS    &  95  \\\\\n",
       "\t ADI   &  79  \\\\\n",
       "\t ATM   &  74  \\\\\n",
       "\t CNP   &  28  \\\\\n",
       "\t APC   &  21  \\\\\n",
       "\t ADE   &  19  \\\\\n",
       "\t ADC   &  11  \\\\\n",
       "\t AMY   &  10  \\\\\n",
       "\t CSC   &   8  \\\\\n",
       "\t MM    &   8  \\\\\n",
       "\t APU   &   7  \\\\\n",
       "\t C   F &   6  \\\\\n",
       "\t AMC   &   5  \\\\\n",
       "\t AMO   &   4  \\\\\n",
       "\t AMS   &   4  \\\\\n",
       "\t G     &   4  \\\\\n",
       "\t APY   &   3  \\\\\n",
       "\t BHN   &   3  \\\\\n",
       "\t AMI F &   2  \\\\\n",
       "\t PH7   &   2  \\\\\n",
       "\t VAC   &   1  \\\\\n",
       "\t G   N &   1  \\\\\n",
       "\t SDE   &   1  \\\\\n",
       "\t SE5   &   1  \\\\\n",
       "\t CNR   &   1  \\\\\n",
       "\t SF    &   1  \\\\\n",
       "\t TO    &   1  \\\\\n",
       "\t AMI N &   1  \\\\\n",
       "\\end{tabular}\n"
      ],
      "text/markdown": [
       "\n",
       "codact | n | \n",
       "|---|---|---|---|---|---|---|---|---|---|---|---|---|---|---|---|---|---|---|---|---|---|---|---|---|---|---|---|---|---|---|---|\n",
       "| C     | 182   | \n",
       "| B     | 177   | \n",
       "| MCS   | 137   | \n",
       "| AMI   | 103   | \n",
       "| CS    |  95   | \n",
       "| ADI   |  79   | \n",
       "| ATM   |  74   | \n",
       "| CNP   |  28   | \n",
       "| APC   |  21   | \n",
       "| ADE   |  19   | \n",
       "| ADC   |  11   | \n",
       "| AMY   |  10   | \n",
       "| CSC   |   8   | \n",
       "| MM    |   8   | \n",
       "| APU   |   7   | \n",
       "| C   F |   6   | \n",
       "| AMC   |   5   | \n",
       "| AMO   |   4   | \n",
       "| AMS   |   4   | \n",
       "| G     |   4   | \n",
       "| APY   |   3   | \n",
       "| BHN   |   3   | \n",
       "| AMI F |   2   | \n",
       "| PH7   |   2   | \n",
       "| VAC   |   1   | \n",
       "| G   N |   1   | \n",
       "| SDE   |   1   | \n",
       "| SE5   |   1   | \n",
       "| CNR   |   1   | \n",
       "| SF    |   1   | \n",
       "| TO    |   1   | \n",
       "| AMI N |   1   | \n",
       "\n",
       "\n"
      ],
      "text/plain": [
       "   codact n  \n",
       "1  C      182\n",
       "2  B      177\n",
       "3  MCS    137\n",
       "4  AMI    103\n",
       "5  CS      95\n",
       "6  ADI     79\n",
       "7  ATM     74\n",
       "8  CNP     28\n",
       "9  APC     21\n",
       "10 ADE     19\n",
       "11 ADC     11\n",
       "12 AMY     10\n",
       "13 CSC      8\n",
       "14 MM       8\n",
       "15 APU      7\n",
       "16 C   F    6\n",
       "17 AMC      5\n",
       "18 AMO      4\n",
       "19 AMS      4\n",
       "20 G        4\n",
       "21 APY      3\n",
       "22 BHN      3\n",
       "23 AMI F    2\n",
       "24 PH7      2\n",
       "25 VAC      1\n",
       "26 G   N    1\n",
       "27 SDE      1\n",
       "28 SE5      1\n",
       "29 CNR      1\n",
       "30 SF       1\n",
       "31 TO       1\n",
       "32 AMI N    1"
      ]
     },
     "metadata": {},
     "output_type": "display_data"
    }
   ],
   "source": [
    "tbl_rsf(con, 17, 'rafael_c') %>% \n",
    "    sample_n(1000) %>% \n",
    "    count(codact, sort = TRUE) %>% \n",
    "    collect()"
   ]
  },
  {
   "cell_type": "code",
   "execution_count": 6,
   "metadata": {},
   "outputs": [
    {
     "data": {
      "text/plain": [
       "# Source:   lazy query [?? x 1]\n",
       "# Database: MonetDBEmbeddedConnection\n",
       "      n\n",
       "  <dbl>\n",
       "1  100."
      ]
     },
     "metadata": {},
     "output_type": "display_data"
    }
   ],
   "source": [
    "tbl_rsf(con, 17, 'rafael_c') %>% sample_n(100)  %>% count()"
   ]
  },
  {
   "cell_type": "markdown",
   "metadata": {},
   "source": [
    "# Combien de séjours M4 Inca de 2011 à 2017 à l'AP-HP"
   ]
  },
  {
   "cell_type": "code",
   "execution_count": 7,
   "metadata": {},
   "outputs": [
    {
     "data": {
      "text/html": [
       "<table>\n",
       "<thead><tr><th scope=col>Requete</th><th scope=col>2011</th><th scope=col>2012</th><th scope=col>2013</th><th scope=col>2014</th><th scope=col>2015</th><th scope=col>2016</th><th scope=col>2017</th></tr></thead>\n",
       "<tbody>\n",
       "\t<tr><td>Digestif   </td><td>449        </td><td>544        </td><td>524        </td><td>486        </td><td>678        </td><td>723        </td><td>654        </td></tr>\n",
       "\t<tr><td>Gynécologie</td><td>164        </td><td>157        </td><td>130        </td><td>136        </td><td>147        </td><td>148        </td><td>154        </td></tr>\n",
       "\t<tr><td>Orl-MF     </td><td>596        </td><td>636        </td><td>668        </td><td>705        </td><td>673        </td><td>757        </td><td>731        </td></tr>\n",
       "\t<tr><td>Sein       </td><td>241        </td><td>220        </td><td>218        </td><td>257        </td><td>218        </td><td>270        </td><td>305        </td></tr>\n",
       "\t<tr><td>Thorax     </td><td> 10        </td><td>  8        </td><td>  6        </td><td>  2        </td><td>  8        </td><td>  7        </td><td>  5        </td></tr>\n",
       "\t<tr><td>Urologie   </td><td>386        </td><td>394        </td><td>386        </td><td>375        </td><td>348        </td><td>402        </td><td>426        </td></tr>\n",
       "</tbody>\n",
       "</table>\n"
      ],
      "text/latex": [
       "\\begin{tabular}{r|llllllll}\n",
       " Requete & 2011 & 2012 & 2013 & 2014 & 2015 & 2016 & 2017\\\\\n",
       "\\hline\n",
       "\t Digestif    & 449         & 544         & 524         & 486         & 678         & 723         & 654        \\\\\n",
       "\t Gynécologie & 164         & 157         & 130         & 136         & 147         & 148         & 154        \\\\\n",
       "\t Orl-MF      & 596         & 636         & 668         & 705         & 673         & 757         & 731        \\\\\n",
       "\t Sein        & 241         & 220         & 218         & 257         & 218         & 270         & 305        \\\\\n",
       "\t Thorax      &  10         &   8         &   6         &   2         &   8         &   7         &   5        \\\\\n",
       "\t Urologie    & 386         & 394         & 386         & 375         & 348         & 402         & 426        \\\\\n",
       "\\end{tabular}\n"
      ],
      "text/markdown": [
       "\n",
       "Requete | 2011 | 2012 | 2013 | 2014 | 2015 | 2016 | 2017 | \n",
       "|---|---|---|---|---|---|\n",
       "| Digestif    | 449         | 544         | 524         | 486         | 678         | 723         | 654         | \n",
       "| Gynécologie | 164         | 157         | 130         | 136         | 147         | 148         | 154         | \n",
       "| Orl-MF      | 596         | 636         | 668         | 705         | 673         | 757         | 731         | \n",
       "| Sein        | 241         | 220         | 218         | 257         | 218         | 270         | 305         | \n",
       "| Thorax      |  10         |   8         |   6         |   2         |   8         |   7         |   5         | \n",
       "| Urologie    | 386         | 394         | 386         | 375         | 348         | 402         | 426         | \n",
       "\n",
       "\n"
      ],
      "text/plain": [
       "  Requete     2011 2012 2013 2014 2015 2016 2017\n",
       "1 Digestif    449  544  524  486  678  723  654 \n",
       "2 Gynécologie 164  157  130  136  147  148  154 \n",
       "3 Orl-MF      596  636  668  705  673  757  731 \n",
       "4 Sein        241  220  218  257  218  270  305 \n",
       "5 Thorax       10    8    6    2    8    7    5 \n",
       "6 Urologie    386  394  386  375  348  402  426 "
      ]
     },
     "metadata": {},
     "output_type": "display_data"
    }
   ],
   "source": [
    "library(nomensland)\n",
    "all_listes <- get_all_listes('Cancérologie : Chirurgie M4 Inca')\n",
    "an = 17\n",
    "11:17  %>% purrr::map(purrr::quietly(function(an){\n",
    "    lancer_requete_db(con, an, all_listes) %>% \n",
    "  count(Requete) %>% mutate(annee  = 2000 + an)})\n",
    "    ) %>% \n",
    "    purrr::map('result') %>% \n",
    "    bind_rows() %>% \n",
    "    tidyr::spread(annee, n, fill = 0)\n",
    "\n"
   ]
  }
 ],
 "metadata": {
  "kernelspec": {
   "display_name": "R",
   "language": "R",
   "name": "ir"
  },
  "language_info": {
   "codemirror_mode": "r",
   "file_extension": ".r",
   "mimetype": "text/x-r-source",
   "name": "R",
   "pygments_lexer": "r",
   "version": "3.4.4"
  }
 },
 "nbformat": 4,
 "nbformat_minor": 2
}
